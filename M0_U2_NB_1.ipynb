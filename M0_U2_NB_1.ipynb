{
 "cells": [
  {
   "cell_type": "markdown",
   "metadata": {},
   "source": [
    "# Definición de funciones\n",
    "Como nos muestra el infograma, la definición de una función en Scala se hace a traves del constructor ```def```, este nos indica que dicha definición comienza. Aunque las sintaxis es diferente a un lenguaje como Java, tiene elementos comunes: como la lista de parámetros, que puede ser vacía; el valor de retorno, que deber indicar el tipo que retorna, desde los definidos en el sistema, como los definidos por el usuario, también se puede utilizar el no tipo ```Unit``` y el cuerpo de la función. En Java se espera que el cuerpo sea una secuencia de instrucciones posiblemente vacía, en Scala se espera que el cuerpo sea una expresión y lo podemos observar en la siguiente definición de nuestra conocida función ```gcd```."
   ]
  },
  {
   "cell_type": "code",
   "execution_count": null,
   "metadata": {},
   "outputs": [],
   "source": [
    "def gcd(a:Int,b:Int):Int = if (a == b) a else if (a > b) gcd(a - b, b) else gcd(a, b - a)"
   ]
  },
  {
   "cell_type": "markdown",
   "metadata": {},
   "source": [
    "## Definición de funciones no-recursivas\n",
    "Las funciones no recursivas no requieren establecer cuál es el tipo \n",
    "### Ejercicio\n",
    "El método ```toInt``` sirve para convertir un valor de tipo caracter a un valor numerico, como se ve a continuación:"
   ]
  },
  {
   "cell_type": "code",
   "execution_count": 7,
   "metadata": {},
   "outputs": [
    {
     "data": {
      "text/plain": [
       "\u001b[36mres6\u001b[39m: \u001b[32mInt\u001b[39m = \u001b[32m65\u001b[39m"
      ]
     },
     "execution_count": 7,
     "metadata": {},
     "output_type": "execute_result"
    }
   ],
   "source": [
    "'A'.toInt"
   ]
  },
  {
   "cell_type": "markdown",
   "metadata": {},
   "source": [
    "El método ```asInstanceOf[Char]``` permite convertir un valor númerico a sus correspondiente caracter:"
   ]
  },
  {
   "cell_type": "code",
   "execution_count": 8,
   "metadata": {},
   "outputs": [
    {
     "data": {
      "text/plain": [
       "\u001b[36mres7\u001b[39m: \u001b[32mChar\u001b[39m = \u001b[32m'a'\u001b[39m"
      ]
     },
     "execution_count": 8,
     "metadata": {},
     "output_type": "execute_result"
    }
   ],
   "source": [
    "97.asInstanceOf[Char]"
   ]
  },
  {
   "cell_type": "markdown",
   "metadata": {},
   "source": [
    "Métodos implementar la siguiente función ```cifradoCesar``` esta función recibe dos parámetros, el primero es un carácter (```Char```) y un entero (```Int```). La función funciona de la siguiente manera, se reciben dos valores: un ```Char```, por ejemplo ```'f'```; y un desplazamiento, por ejemplo ```3``` y esto transforma el valor en ```'c'```. Defina la función:"
   ]
  },
  {
   "cell_type": "code",
   "execution_count": null,
   "metadata": {},
   "outputs": [],
   "source": []
  },
  {
   "cell_type": "markdown",
   "metadata": {},
   "source": [
    "Pruebe la función con los probandola con el siguiente código, debe dar verdadero"
   ]
  },
  {
   "cell_type": "code",
   "execution_count": null,
   "metadata": {},
   "outputs": [],
   "source": [
    "cifradoCesar(cifradoCesar('a',3),-3) == 'a'"
   ]
  }
 ],
 "metadata": {
  "kernelspec": {
   "display_name": "Scala",
   "language": "scala",
   "name": "scala"
  },
  "language_info": {
   "codemirror_mode": "text/x-scala",
   "file_extension": ".sc",
   "mimetype": "text/x-scala",
   "name": "scala",
   "nbconvert_exporter": "script",
   "version": "2.13.3"
  }
 },
 "nbformat": 4,
 "nbformat_minor": 4
}
