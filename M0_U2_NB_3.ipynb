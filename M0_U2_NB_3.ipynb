{
 "cells": [
  {
   "cell_type": "markdown",
   "metadata": {},
   "source": [
    "# Implementación de funciones puras en Scala\n",
    "Recuerde que las funciones puras cumple tres condiciones:\n",
    "1. Una función pura retorna un solo valor.\n",
    "2. Una función pura retorna el valor basado únicamente en los argumentos.\n",
    "3. Una función pura no modifica ningún valor existente.\n",
    "Generalmente las funciones puras están basadas en definiciones matemáticas como la siguiente:\n",
    "![Funcion](Celsius2Farenheit.gif)\n",
    "Utilizando el lenguaje de programación Scala defina la función ```celsius2Farenheit```"
   ]
  },
  {
   "cell_type": "markdown",
   "metadata": {},
   "source": [
    "# Funciones puras y los lenguajes de programación\n",
    "A continuación vamos a mostrar una definición de la información sobre que son las definiciones de funciones puras y sus implicaciones.\n",
    "- Las fórmulas matemática son ***siempre*** puras.\n",
    "- Los lenguajes de programación imperativos son:\n",
    "  - más poderosos\n",
    "  - elásticos\n",
    "- Esto implica que los programadores siempre pueden obviar hacer una programación correcta.\n",
    "- Los programadores obvian realizar programación pura por que los lenguajes imperativos se lo permiten.\n",
    "- Los lenguajes funcionales facilitan la creación de funciones puras.\n",
    "- El lenguaje de programación Scala facilita la creación de funciones puras, cuando se utilizan declaraciones de variables tipo ```val```\n",
    "Esta información es relevante para los ejercicios que desarrollaras a continuación.\n",
    "\n",
    "# Ejercicio 1. Funciones puras y Scala\n",
    "Escriba la implementación de función ```getDiscount``` teniendo en cuenta:\n",
    "1. A continuación aparece la declaración la función ```getDiscount``` en la que el cuerpo de la función esta indicado por los ```???```, reemplace esos valores con el cuerpo correspondiente a la función a implementar.\n",
    "2. El cuerpo de la función debe realizar los siguientes descuentos, si el número de visitantes es 6 y 10, descontar el 5%, si el número de visitantes de mayor de 10 descontar el 20%, en cualquier otro caso el resultado es no realizar descuentos.\n",
    "3. Una vez definida y ejectuada la función de la siguiente linea, ejecutar las siguientes dos invocación de función para obtener los resultados correspondientes. "
   ]
  },
  {
   "cell_type": "code",
   "execution_count": 1,
   "metadata": {},
   "outputs": [
    {
     "data": {
      "text/plain": [
       "defined \u001b[32mfunction\u001b[39m \u001b[36mgetDiscount\u001b[39m"
      ]
     },
     "execution_count": 1,
     "metadata": {},
     "output_type": "execute_result"
    }
   ],
   "source": [
    "def getDiscount(visitors:List[String]) = ???"
   ]
  },
  {
   "cell_type": "code",
   "execution_count": 2,
   "metadata": {},
   "outputs": [
    {
     "data": {
      "text/plain": [
       "\u001b[36mres1\u001b[39m: \u001b[32mDouble\u001b[39m = \u001b[32m0.0\u001b[39m"
      ]
     },
     "execution_count": 2,
     "metadata": {},
     "output_type": "execute_result"
    }
   ],
   "source": [
    "getDiscount(List(\"Jhon\",\"Peter\",\"Jacob\",\"Joseph\",\"Paul\"))"
   ]
  },
  {
   "cell_type": "code",
   "execution_count": 3,
   "metadata": {},
   "outputs": [
    {
     "data": {
      "text/plain": [
       "\u001b[36mres2\u001b[39m: \u001b[32mDouble\u001b[39m = \u001b[32m0.05\u001b[39m"
      ]
     },
     "execution_count": 3,
     "metadata": {},
     "output_type": "execute_result"
    }
   ],
   "source": [
    "getDiscount(List(\"Jhon\",\"Peter\",\"Jacob\",\"Joseph\",\"Paul\",\"Mathew\"))"
   ]
  },
  {
   "cell_type": "markdown",
   "metadata": {},
   "source": [
    "#  Ejercicio 2.  Propiedades de la ```function```\n",
    "A continuación te presentamos la definición de una ```function```. Esta definión es: ¿Pura? ó ¿Impura?"
   ]
  },
  {
   "cell_type": "code",
   "execution_count": 4,
   "metadata": {},
   "outputs": [
    {
     "data": {
      "text/plain": [
       "defined \u001b[32mfunction\u001b[39m \u001b[36mfunction\u001b[39m"
      ]
     },
     "execution_count": 4,
     "metadata": {},
     "output_type": "execute_result"
    }
   ],
   "source": [
    "def function(a:Int) = (a,a+1)"
   ]
  },
  {
   "cell_type": "markdown",
   "metadata": {},
   "source": [
    "Para terminar, reflexiona acerca de tu respuesta. ¿Por qué seleccionaste que es pura o impura? "
   ]
  },
  {
   "cell_type": "markdown",
   "metadata": {},
   "source": [
    "# Ejercicio 3.  Propiedad de la función ```function2```\n",
    "A continuación te presentamos la definición de una ```function```. Esta definión es: ¿Pura? ó ¿Impura?"
   ]
  },
  {
   "cell_type": "code",
   "execution_count": 5,
   "metadata": {},
   "outputs": [
    {
     "data": {
      "text/plain": [
       "defined \u001b[32mfunction\u001b[39m \u001b[36mfunction2\u001b[39m"
      ]
     },
     "execution_count": 5,
     "metadata": {},
     "output_type": "execute_result"
    }
   ],
   "source": [
    "def function2(a:Int) = {\n",
    "   var b = a\n",
    "   b = b + 1\n",
    "   b\n",
    "}"
   ]
  },
  {
   "cell_type": "markdown",
   "metadata": {},
   "source": [
    "Para terminar, reflexiona acerca de tu respuesta. ¿Por qué seleccionaste que es pura o impura? "
   ]
  },
  {
   "cell_type": "markdown",
   "metadata": {},
   "source": [
    "# Ejercicio 4. Propiedad de la función ```funcion3```\n",
    "A continuación te presentamos la definición de una ```function```. Esta definión es: ¿Pura? ó ¿Impura?"
   ]
  },
  {
   "cell_type": "code",
   "execution_count": 6,
   "metadata": {},
   "outputs": [
    {
     "data": {
      "text/plain": [
       "defined \u001b[32mfunction\u001b[39m \u001b[36mfunction3\u001b[39m"
      ]
     },
     "execution_count": 6,
     "metadata": {},
     "output_type": "execute_result"
    }
   ],
   "source": [
    "def function3():Unit = {\n",
    "    println(\"Hello, World!\")\n",
    "}"
   ]
  },
  {
   "cell_type": "markdown",
   "metadata": {},
   "source": [
    "Para terminar, reflexiona acerca de tu respuesta. ¿Por qué seleccionaste que es pura o impura? "
   ]
  }
 ],
 "metadata": {
  "kernelspec": {
   "display_name": "Scala",
   "language": "scala",
   "name": "scala"
  },
  "language_info": {
   "codemirror_mode": "text/x-scala",
   "file_extension": ".sc",
   "mimetype": "text/x-scala",
   "name": "scala",
   "nbconvert_exporter": "script",
   "version": "2.13.3"
  }
 },
 "nbformat": 4,
 "nbformat_minor": 4
}
