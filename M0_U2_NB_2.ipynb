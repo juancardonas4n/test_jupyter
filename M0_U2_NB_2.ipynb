{
 "cells": [
  {
   "cell_type": "markdown",
   "metadata": {},
   "source": [
    "# Definición de funciones\n",
    "Como nos muestra el infograma, la definición de una función en Scala se hace a traves del constructor ```def```, este nos indica que dicha definición comienza. Aunque las sintaxis es diferente a un lenguaje como Java, tiene elementos comunes: como la lista de parámetros, que puede ser vacía; el valor de retorno, que deber indicar el tipo que retorna, desde los definidos en el sistema, como los definidos por el usuario, también se puede utilizar el no tipo ```Unit``` y el cuerpo de la función. En Java se espera que el cuerpo sea una secuencia de instrucciones posiblemente vacía, en Scala se espera que el cuerpo sea una expresión y lo podemos observar en la siguiente definición de nuestra conocida función ```gcd```."
   ]
  },
  {
   "cell_type": "code",
   "execution_count": null,
   "metadata": {},
   "outputs": [],
   "source": [
    "def gcd(a:Int,b:Int):Int = if (a == b) a else if (a > b) gcd(a - b, b) else gcd(a, b - a)"
   ]
  },
  {
   "cell_type": "markdown",
   "metadata": {},
   "source": [
    "## Definición de funciones no-recursivas\n",
    "Las funciones no recursivas no requieren establecer cuál es el tipo \n",
    "### Ejercicio cifrado del César (```cifradoCesar```)\n",
    "El método ```toInt``` sirve para convertir un valor de tipo caracter a un valor numerico, como se ve a continuación:"
   ]
  },
  {
   "cell_type": "code",
   "execution_count": null,
   "metadata": {},
   "outputs": [],
   "source": [
    "'A'.toInt"
   ]
  },
  {
   "cell_type": "markdown",
   "metadata": {},
   "source": [
    "El método ```asInstanceOf[Char]``` permite convertir un valor númerico a sus correspondiente caracter:"
   ]
  },
  {
   "cell_type": "code",
   "execution_count": null,
   "metadata": {},
   "outputs": [],
   "source": [
    "97.asInstanceOf[Char]"
   ]
  },
  {
   "cell_type": "markdown",
   "metadata": {},
   "source": [
    "Métodos implementar la siguiente función ```cifradoCesar``` esta función recibe dos parámetros, el primero es un carácter (```Char```) y un entero (```Int```). La función funciona de la siguiente manera, se reciben dos valores: un ```Char```, por ejemplo ```'f'```; y un desplazamiento, por ejemplo ```3``` y esto transforma el valor en ```'c'```. Defina la función:"
   ]
  },
  {
   "cell_type": "code",
   "execution_count": null,
   "metadata": {},
   "outputs": [],
   "source": []
  },
  {
   "cell_type": "markdown",
   "metadata": {},
   "source": [
    "Pruebe la función con los probandola con el siguiente código, debe dar verdadero"
   ]
  },
  {
   "cell_type": "code",
   "execution_count": null,
   "metadata": {},
   "outputs": [],
   "source": [
    "cifradoCesar(cifradoCesar('a',3),-3) == 'a'"
   ]
  },
  {
   "cell_type": "markdown",
   "metadata": {},
   "source": [
    "###  Ejercicio Logaritmos en base b\n",
    "Los logaritmos tiene diferentes bases, lo que implicaría implementar diferentes versiones con cada una de las bases, pero esto no importa por que se puede calcular utilizando la siguiente ecuación:\n",
    "![Ecuación algoritmo](LogEqn.gif)\n",
    "La función debe recibir el valor de ```n```y su correspondiente base ```b``` y utilizando el método para computar logaritmos en base 10 implementar la función llamada ```logBase```."
   ]
  },
  {
   "cell_type": "code",
   "execution_count": null,
   "metadata": {},
   "outputs": [],
   "source": []
  },
  {
   "cell_type": "markdown",
   "metadata": {},
   "source": [
    "Pruebe la función con los siguientes valores:"
   ]
  },
  {
   "cell_type": "code",
   "execution_count": null,
   "metadata": {},
   "outputs": [],
   "source": [
    "logBase(4.0,2)"
   ]
  },
  {
   "cell_type": "code",
   "execution_count": null,
   "metadata": {},
   "outputs": [],
   "source": [
    "logBase(144,12)"
   ]
  },
  {
   "cell_type": "markdown",
   "metadata": {},
   "source": [
    "## Definicion de funciones recursivas\n",
    "Cuando se define funciones recursivas, en Scala, es obligatorio establecer no solamente el nombre de la función, su lista de parámetros (si la tiene) y el cuerpo de la función, sino que también deberá definir el tipo de retorno. Como en el caso de la función de máximo común divisor (```gcd```), como se observa a continuación."
   ]
  },
  {
   "cell_type": "code",
   "execution_count": null,
   "metadata": {},
   "outputs": [],
   "source": [
    "def gcd(a:Int, b:Int):Int = {\n",
    "    if (a == b) a\n",
    "    else if (a > b) gcd(a - b, b)\n",
    "    else gcd(a,b - a)\n",
    "}"
   ]
  },
  {
   "cell_type": "markdown",
   "metadata": {},
   "source": [
    "### Ejercicio definición de factorial (```fact```)\n",
    "La siguiente es la definición de la función ```fact``` de forma matemática:\n",
    "![Factorial](FactorialCasos.gif)\n",
    "Implemente la función ```fact``` en Scala"
   ]
  },
  {
   "cell_type": "code",
   "execution_count": null,
   "metadata": {},
   "outputs": [],
   "source": [
    "def fact(n:Int):Int = ???"
   ]
  },
  {
   "cell_type": "markdown",
   "metadata": {},
   "source": [
    "Pruebe la función con los siguientes valores:"
   ]
  },
  {
   "cell_type": "code",
   "execution_count": null,
   "metadata": {},
   "outputs": [],
   "source": [
    "fact(5)"
   ]
  },
  {
   "cell_type": "code",
   "execution_count": null,
   "metadata": {},
   "outputs": [],
   "source": [
    "fact(10)"
   ]
  },
  {
   "cell_type": "markdown",
   "metadata": {},
   "source": [
    "### Ejercicio definición de potencia (```potencia```)\n",
    "La siguiente es la definición de la función de potencia.\n",
    "![potencia](PotenciaEq.gif)\n",
    "Implemente la función ```potencia```."
   ]
  },
  {
   "cell_type": "code",
   "execution_count": null,
   "metadata": {},
   "outputs": [],
   "source": [
    "def potencia(a:Int, n:Int):Int = ???"
   ]
  },
  {
   "cell_type": "code",
   "execution_count": null,
   "metadata": {},
   "outputs": [],
   "source": [
    "potencia(2,2)"
   ]
  },
  {
   "cell_type": "code",
   "execution_count": null,
   "metadata": {},
   "outputs": [],
   "source": [
    "potencia(3,9)"
   ]
  }
 ],
 "metadata": {
  "kernelspec": {
   "display_name": "Scala",
   "language": "scala",
   "name": "scala"
  },
  "language_info": {
   "codemirror_mode": "text/x-scala",
   "file_extension": ".sc",
   "mimetype": "text/x-scala",
   "name": "scala",
   "nbconvert_exporter": "script",
   "version": "2.13.3"
  }
 },
 "nbformat": 4,
 "nbformat_minor": 4
}
